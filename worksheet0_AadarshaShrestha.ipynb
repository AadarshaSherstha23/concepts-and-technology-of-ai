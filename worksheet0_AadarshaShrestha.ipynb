{
  "nbformat": 4,
  "nbformat_minor": 0,
  "metadata": {
    "colab": {
      "provenance": []
    },
    "kernelspec": {
      "name": "python3",
      "display_name": "Python 3"
    },
    "language_info": {
      "name": "python"
    }
  },
  "cells": [
    {
      "cell_type": "markdown",
      "source": [
        "#Python Version Check\n"
      ],
      "metadata": {
        "id": "B_0rE5tDNMbF"
      }
    },
    {
      "cell_type": "code",
      "execution_count": 6,
      "metadata": {
        "colab": {
          "base_uri": "https://localhost:8080/",
          "height": 0
        },
        "id": "ge4eX5O3H3lt",
        "outputId": "b72125c2-10d5-4f64-cf17-e151a27fe7e8"
      },
      "outputs": [
        {
          "output_type": "stream",
          "name": "stdout",
          "text": [
            "Hello, World!\n",
            "Python version: 3.10.12 (main, Nov  6 2024, 20:22:13) [GCC 11.4.0]\n"
          ]
        }
      ],
      "source": [
        "import sys\n",
        "\n",
        "# Check Python version\n",
        "if sys.version_info.major == 3 and sys.version_info.minor >= 6:\n",
        "    print(\"Hello, World!\")\n",
        "    print(f\"Python version: {sys.version}\")\n",
        "else:\n",
        "    print(\"Please use Python 3.6 or higher.\")\n",
        ""
      ]
    },
    {
      "cell_type": "markdown",
      "source": [
        "#Data Types - Numeric"
      ],
      "metadata": {
        "id": "Flx07ouCNYv-"
      }
    },
    {
      "cell_type": "code",
      "source": [
        "age = 23 #int\n",
        "pi = 3.14 #float\n",
        "temperature = -5.5 #float\n",
        "print(\"data type of variable age = \", type(age))\n",
        "print(\"data type of variable pi = \", type(pi))\n",
        "print(\"data type of variable temperature = \", type(temperature))"
      ],
      "metadata": {
        "colab": {
          "base_uri": "https://localhost:8080/",
          "height": 0
        },
        "id": "SYVTOzTWNWW-",
        "outputId": "6ac18fcb-8cc1-4548-9f2f-fc69d232c1ee"
      },
      "execution_count": 7,
      "outputs": [
        {
          "output_type": "stream",
          "name": "stdout",
          "text": [
            "data type of variable age =  <class 'int'>\n",
            "data type of variable pi =  <class 'float'>\n",
            "data type of variable temperature =  <class 'float'>\n"
          ]
        }
      ]
    },
    {
      "cell_type": "markdown",
      "source": [
        "#Data Types - Sequence - String"
      ],
      "metadata": {
        "id": "3ybWHwhnNurS"
      }
    },
    {
      "cell_type": "code",
      "source": [
        "name = \"Alice\"\n",
        "greeting = '’Hello’'\n",
        "address = \"123 Main St\"\n",
        "print(\"data type of the variable name = \",type(name))\n",
        "print(\"data type of the variable greeting = \",type(greeting))\n",
        "print(\"data type of the variable address = \",type(address))\n",
        "# slice only one element\n",
        "print(\"The first letter of the name is:\", name[0])\n",
        "print(\"The last letter of the name is:\", name[-1])\n",
        "# slice a range of elements\n",
        "print(\"The second letter to the fourth of the name is:\", name[1:4])\n",
        "print(\"The first two letters of the name are:\", name[:2])\n",
        "print(\"Substring starting from the third letter is:\", name[2:])"
      ],
      "metadata": {
        "colab": {
          "base_uri": "https://localhost:8080/",
          "height": 0
        },
        "id": "6W7qqjOtN4yM",
        "outputId": "becea3bf-70aa-49a5-dde9-d1eb9b39f9d9"
      },
      "execution_count": 10,
      "outputs": [
        {
          "output_type": "stream",
          "name": "stdout",
          "text": [
            "data type of the variable name =  <class 'str'>\n",
            "data type of the variable greeting =  <class 'str'>\n",
            "data type of the variable address =  <class 'str'>\n",
            "The first letter of the name is: A\n",
            "The last letter of the name is: e\n",
            "The second letter to the fourth of the name is: lic\n",
            "The first two letters of the name are: Al\n",
            "Substring starting from the third letter is: ice\n"
          ]
        }
      ]
    },
    {
      "cell_type": "markdown",
      "source": [
        "#Data Types - Sequence - List"
      ],
      "metadata": {
        "id": "B0gNHaoQOH3W"
      }
    },
    {
      "cell_type": "code",
      "source": [
        "list1 = [1, 2, 3, 4]\n",
        "mixed_list = [12, \"Hello\", True]\n",
        "# List is mutable\n",
        "mixed_list[0] = False\n",
        "mixed_list\n"
      ],
      "metadata": {
        "colab": {
          "base_uri": "https://localhost:8080/",
          "height": 0
        },
        "id": "Z140GnT2OGal",
        "outputId": "e9439cc1-363c-4444-9266-4213a2178c2b"
      },
      "execution_count": 11,
      "outputs": [
        {
          "output_type": "execute_result",
          "data": {
            "text/plain": [
              "[False, 'Hello', True]"
            ]
          },
          "metadata": {},
          "execution_count": 11
        }
      ]
    },
    {
      "cell_type": "markdown",
      "source": [
        "#Data Types - Sequence - Tuple"
      ],
      "metadata": {
        "id": "39aLKW1hOSHG"
      }
    },
    {
      "cell_type": "code",
      "source": [
        "colors = ('red', 'green', 'yellow','blue')\n",
        "print(\"First element:\", colors[0])\n",
        "print(\"Last two elements:\", colors[2:])\n",
        "print(\"Middle two elements:\", colors[1:3])\n",
        "colors[0] = 'purple'\n",
        "colors # will generate an error as tuple is immutable."
      ],
      "metadata": {
        "colab": {
          "base_uri": "https://localhost:8080/",
          "height": 245
        },
        "id": "-0uUt-kSOVfv",
        "outputId": "693ae493-072d-4f5d-8f39-d48ee7f597bc"
      },
      "execution_count": 15,
      "outputs": [
        {
          "output_type": "stream",
          "name": "stdout",
          "text": [
            "First element: red\n",
            "Last two elements: ('yellow', 'blue')\n",
            "Middle two elements: ('green', 'yellow')\n"
          ]
        },
        {
          "output_type": "error",
          "ename": "TypeError",
          "evalue": "'tuple' object does not support item assignment",
          "traceback": [
            "\u001b[0;31m---------------------------------------------------------------------------\u001b[0m",
            "\u001b[0;31mTypeError\u001b[0m                                 Traceback (most recent call last)",
            "\u001b[0;32m<ipython-input-15-0ef471866024>\u001b[0m in \u001b[0;36m<cell line: 5>\u001b[0;34m()\u001b[0m\n\u001b[1;32m      3\u001b[0m \u001b[0mprint\u001b[0m\u001b[0;34m(\u001b[0m\u001b[0;34m\"Last two elements:\"\u001b[0m\u001b[0;34m,\u001b[0m \u001b[0mcolors\u001b[0m\u001b[0;34m[\u001b[0m\u001b[0;36m2\u001b[0m\u001b[0;34m:\u001b[0m\u001b[0;34m]\u001b[0m\u001b[0;34m)\u001b[0m\u001b[0;34m\u001b[0m\u001b[0;34m\u001b[0m\u001b[0m\n\u001b[1;32m      4\u001b[0m \u001b[0mprint\u001b[0m\u001b[0;34m(\u001b[0m\u001b[0;34m\"Middle two elements:\"\u001b[0m\u001b[0;34m,\u001b[0m \u001b[0mcolors\u001b[0m\u001b[0;34m[\u001b[0m\u001b[0;36m1\u001b[0m\u001b[0;34m:\u001b[0m\u001b[0;36m3\u001b[0m\u001b[0;34m]\u001b[0m\u001b[0;34m)\u001b[0m\u001b[0;34m\u001b[0m\u001b[0;34m\u001b[0m\u001b[0m\n\u001b[0;32m----> 5\u001b[0;31m \u001b[0mcolors\u001b[0m\u001b[0;34m[\u001b[0m\u001b[0;36m0\u001b[0m\u001b[0;34m]\u001b[0m \u001b[0;34m=\u001b[0m \u001b[0;34m'purple'\u001b[0m\u001b[0;34m\u001b[0m\u001b[0;34m\u001b[0m\u001b[0m\n\u001b[0m\u001b[1;32m      6\u001b[0m \u001b[0mcolors\u001b[0m \u001b[0;31m# will generate an error as tuple is immutable.\u001b[0m\u001b[0;34m\u001b[0m\u001b[0;34m\u001b[0m\u001b[0m\n",
            "\u001b[0;31mTypeError\u001b[0m: 'tuple' object does not support item assignment"
          ]
        }
      ]
    },
    {
      "cell_type": "markdown",
      "source": [
        "#Data Types - Sequence - Dict"
      ],
      "metadata": {
        "id": "K-f9ym7JPcyJ"
      }
    },
    {
      "cell_type": "code",
      "source": [
        "person = {'name': 'John', 'age': 30, 'city': 'Pittsburgh'}\n",
        "print(f\"Hello my name is {person['name']}. I am {person['age']} years old and I live at {person['city']}.\")\n",
        "print(\"All keys:\", list(person.keys()))\n",
        "print(\"All values:\", list(person.values()))\n"
      ],
      "metadata": {
        "colab": {
          "base_uri": "https://localhost:8080/",
          "height": 0
        },
        "id": "cq3bG65gPgpB",
        "outputId": "b8b31088-dfcb-4274-ecb2-08c352fd0a73"
      },
      "execution_count": 16,
      "outputs": [
        {
          "output_type": "stream",
          "name": "stdout",
          "text": [
            "Hello my name is John. I am 30 years old and I live at Pittsburgh.\n",
            "All keys: ['name', 'age', 'city']\n",
            "All values: ['John', 30, 'Pittsburgh']\n"
          ]
        }
      ]
    },
    {
      "cell_type": "markdown",
      "source": [
        "#Data Types - Set"
      ],
      "metadata": {
        "id": "Y9rGZAAmP-Hm"
      }
    },
    {
      "cell_type": "code",
      "source": [
        "unique_numbers = {1,2,3,3,3,3,4,5}\n",
        "print(unique_numbers)"
      ],
      "metadata": {
        "colab": {
          "base_uri": "https://localhost:8080/",
          "height": 0
        },
        "id": "qAJBoSKYP8nF",
        "outputId": "187cfd83-9260-4c47-83d6-25a03116efbc"
      },
      "execution_count": 17,
      "outputs": [
        {
          "output_type": "stream",
          "name": "stdout",
          "text": [
            "{1, 2, 3, 4, 5}\n"
          ]
        }
      ]
    },
    {
      "cell_type": "markdown",
      "source": [
        "#Data Types - Boolean"
      ],
      "metadata": {
        "id": "Mjj3x9k0QLQ4"
      }
    },
    {
      "cell_type": "code",
      "source": [
        "is_student = True\n",
        "has_license = False\n",
        "print(\"data type of the variable is_student = \",type(is_student))\n",
        "print(\"data type of the variable has_license = \",type(has_license))"
      ],
      "metadata": {
        "colab": {
          "base_uri": "https://localhost:8080/",
          "height": 0
        },
        "id": "cw-rdpcdQSpR",
        "outputId": "0dd5aec6-79ce-49e6-a806-4828663265b5"
      },
      "execution_count": 19,
      "outputs": [
        {
          "output_type": "stream",
          "name": "stdout",
          "text": [
            "data type of the variable is_student =  <class 'bool'>\n",
            "data type of the variable has_license =  <class 'bool'>\n"
          ]
        }
      ]
    },
    {
      "cell_type": "markdown",
      "source": [
        "#Sample Code - if-else statement"
      ],
      "metadata": {
        "id": "ltlWkLiQQseM"
      }
    },
    {
      "cell_type": "code",
      "source": [
        "num = 10\n",
        "if num > 0:\n",
        "  print(\"Positive\")\n",
        "elif num == 0:\n",
        "  print(\"Zero\")\n",
        "else:\n",
        "  print(\"Non-positive\")\n",
        "\n"
      ],
      "metadata": {
        "colab": {
          "base_uri": "https://localhost:8080/",
          "height": 0
        },
        "id": "WQ2YV4c1RT4q",
        "outputId": "c73077da-b4ee-44c2-c976-2bf0bae6cdf3"
      },
      "execution_count": 21,
      "outputs": [
        {
          "output_type": "stream",
          "name": "stdout",
          "text": [
            "Positive\n"
          ]
        }
      ]
    },
    {
      "cell_type": "markdown",
      "source": [
        "#Sample Code - Comparision Operator"
      ],
      "metadata": {
        "id": "YhrVx7mgRguc"
      }
    },
    {
      "cell_type": "code",
      "source": [
        "x = 5\n",
        "y = 10\n",
        "if x > 0 and y < 20:\n",
        "  print(\"Both conditions are true\")\n",
        "if x > 0 or y > 20:\n",
        "  print(\"At least one condition is true\")\n",
        "if not x == 0:\n",
        "  print(\"x is not equal to 0\")"
      ],
      "metadata": {
        "colab": {
          "base_uri": "https://localhost:8080/",
          "height": 0
        },
        "id": "P7ro72rARk0c",
        "outputId": "24bf70d3-684c-4003-b6f6-c7dfa5bea0e7"
      },
      "execution_count": 22,
      "outputs": [
        {
          "output_type": "stream",
          "name": "stdout",
          "text": [
            "Both conditions are true\n",
            "At least one condition is true\n",
            "x is not equal to 0\n"
          ]
        }
      ]
    },
    {
      "cell_type": "markdown",
      "source": [
        "#Sample Code - Logical Operator"
      ],
      "metadata": {
        "id": "Z0y5NNLLRvZW"
      }
    },
    {
      "cell_type": "code",
      "source": [
        "# Define two boolean variables\n",
        "a = True\n",
        "b = False\n",
        "# Using the ’and’ operator\n",
        "if a and b:\n",
        "  print(\"Both a and b are True\")\n",
        "else:\n",
        "  print(\"Either a or b is False\") # This will be printed\n",
        "# Using the ’or’ operator\n",
        "if a or b:\n",
        "  print(\"At least one of a or b is True\") # This will be printed\n",
        "else:\n",
        "  print(\"Both a and b are False\")\n",
        "# Using the ’not’ operator\n",
        "if not a:\n",
        "  print(\"a is False\") # This will not be printed\n",
        "else:\n",
        "  print(\"a is True\") # This will be printed"
      ],
      "metadata": {
        "colab": {
          "base_uri": "https://localhost:8080/",
          "height": 0
        },
        "id": "LCUzyhjFR0AX",
        "outputId": "97cd07d0-f2bb-4ab4-d567-67801e7ca27e"
      },
      "execution_count": 23,
      "outputs": [
        {
          "output_type": "stream",
          "name": "stdout",
          "text": [
            "Either a or b is False\n",
            "At least one of a or b is True\n",
            "a is True\n"
          ]
        }
      ]
    },
    {
      "cell_type": "markdown",
      "source": [
        "#Sample Code - Various Loops"
      ],
      "metadata": {
        "id": "cpmEaCFISDW5"
      }
    },
    {
      "cell_type": "code",
      "source": [
        "# For loop:\n",
        "fruits = [\"apple\", \"banana\", \"cherry\"]\n",
        "for fruit in fruits:\n",
        "    print(fruit)\n",
        "\n",
        "# While loop:\n",
        "count = 0\n",
        "while count < 5:\n",
        "    print(\"Count is:\", count)\n",
        "    count += 1\n",
        "\n",
        "# Break\n",
        "fruits = [\"apple\", \"banana\", \"orange\"]\n",
        "print(\"loop 1\")\n",
        "for fruit in fruits:\n",
        "    print(fruit)\n",
        "    if fruit == \"apple\":\n",
        "        break\n",
        "\n",
        "# Continue\n",
        "print(\"loop 2\")\n",
        "for fruit in fruits:\n",
        "    if fruit == \"apple\":\n",
        "        continue\n",
        "    else:\n",
        "        print(fruit)\n"
      ],
      "metadata": {
        "colab": {
          "base_uri": "https://localhost:8080/",
          "height": 0
        },
        "id": "O9kxniqMSG8Z",
        "outputId": "c1e23809-df2f-4336-c6cd-f00f2176e3de"
      },
      "execution_count": 24,
      "outputs": [
        {
          "output_type": "stream",
          "name": "stdout",
          "text": [
            "apple\n",
            "banana\n",
            "cherry\n",
            "Count is: 0\n",
            "Count is: 1\n",
            "Count is: 2\n",
            "Count is: 3\n",
            "Count is: 4\n",
            "loop 1\n",
            "apple\n",
            "loop 2\n",
            "banana\n",
            "orange\n"
          ]
        }
      ]
    },
    {
      "cell_type": "markdown",
      "source": [
        "#Correct way to Write Function"
      ],
      "metadata": {
        "id": "R0xJc01WSPpr"
      }
    },
    {
      "cell_type": "code",
      "source": [
        "def add_binary(a, b):\n",
        "    \"\"\"\n",
        "    Returns the sum of two decimal numbers in binary digits.\n",
        "\n",
        "    Parameters:\n",
        "    a (int): A decimal integer.\n",
        "    b (int): Another decimal integer.\n",
        "\n",
        "    Returns:\n",
        "    binary_sum (str): Binary string of the sum of a and b.\n",
        "    \"\"\"\n",
        "    binary_sum = bin(a + b)[2:]  # Compute the binary sum and strip the '0b' prefix\n",
        "    return binary_sum\n"
      ],
      "metadata": {
        "id": "UNCgY37rSVg7"
      },
      "execution_count": 26,
      "outputs": []
    },
    {
      "cell_type": "markdown",
      "source": [
        "#Example on Built - in - Function"
      ],
      "metadata": {
        "id": "hz8Y_QXjSpLu"
      }
    },
    {
      "cell_type": "code",
      "source": [
        "print(\"Hello, World!\") # Output: Hello, World!\n",
        "length = len(\"Hello\") # Output: 5\n",
        "data_type = type(42) # Output: <class ’int’>\n",
        "total = sum([1, 2, 3]) # Output: 6"
      ],
      "metadata": {
        "colab": {
          "base_uri": "https://localhost:8080/",
          "height": 0
        },
        "id": "FzvhDCfgSs8P",
        "outputId": "2bd6a8da-5ec0-4618-bd3c-0b58d0c8be72"
      },
      "execution_count": 27,
      "outputs": [
        {
          "output_type": "stream",
          "name": "stdout",
          "text": [
            "Hello, World!\n"
          ]
        }
      ]
    },
    {
      "cell_type": "markdown",
      "source": [
        "#Example on Built - in - Methods"
      ],
      "metadata": {
        "id": "UXoWrPKhS54A"
      }
    },
    {
      "cell_type": "code",
      "source": [
        "# str.upper(): Converts all characters in a string to uppercase.\n",
        "message = \"hello\".upper()  # Converts \"hello\" to \"HELLO\"\n",
        "print(message)  # Output: \"HELLO\"\n",
        "\n",
        "# list.append(): Adds an element to the end of a list.\n",
        "fruits = [\"apple\", \"banana\"]\n",
        "fruits.append(\"cherry\")  # Adds \"cherry\" to the list\n",
        "print(fruits)  # Output: [\"apple\", \"banana\", \"cherry\"]\n",
        "\n",
        "# dict.get(): Returns the value associated with a key in a dictionary.\n",
        "info = {\"name\": \"Alice\", \"age\": 25}\n",
        "age = info.get(\"age\")  # Retrieves the value for the key \"age\"\n",
        "print(age)  # Output: 25\n"
      ],
      "metadata": {
        "colab": {
          "base_uri": "https://localhost:8080/",
          "height": 0
        },
        "id": "v02AqXMTTIc8",
        "outputId": "55d3257f-5814-49b7-db2a-b0672e2feca3"
      },
      "execution_count": 29,
      "outputs": [
        {
          "output_type": "stream",
          "name": "stdout",
          "text": [
            "HELLO\n",
            "['apple', 'banana', 'cherry']\n",
            "25\n"
          ]
        }
      ]
    },
    {
      "cell_type": "markdown",
      "source": [
        "#Example of well-structured user-defined function"
      ],
      "metadata": {
        "id": "_CAl7PS3TT20"
      }
    },
    {
      "cell_type": "code",
      "source": [
        "def temperature_converter():\n",
        "    \"\"\"\n",
        "    Converts temperature between Celsius and Fahrenheit.\n",
        "\n",
        "    This function prompts the user to specify the conversion type (Celsius to Fahrenheit or Fahrenheit to Celsius)\n",
        "    and then asks for the temperature value. It calculates and returns the converted temperature.\n",
        "\n",
        "    Returns:\n",
        "    float: The converted temperature value, or None if the input is invalid.\n",
        "    \"\"\"\n",
        "    print(\"Choose conversion type:\")\n",
        "    print(\"1. Celsius to Fahrenheit\")\n",
        "    print(\"2. Fahrenheit to Celsius\")\n",
        "\n",
        "    # Get conversion choice from the user\n",
        "    choice = input(\"Enter 1 or 2: \")\n",
        "\n",
        "    if choice == \"1\":\n",
        "        # Celsius to Fahrenheit conversion\n",
        "        try:\n",
        "            celsius = float(input(\"Enter temperature in Celsius: \"))\n",
        "            fahrenheit = (celsius * 9 / 5) + 32\n",
        "            print(f\"{celsius}°C is equal to {fahrenheit}°F\")\n",
        "            return fahrenheit\n",
        "        except ValueError:\n",
        "            print(\"Invalid input. Please enter a numeric value.\")\n",
        "            return None\n",
        "\n",
        "    elif choice == \"2\":\n",
        "        # Fahrenheit to Celsius conversion\n",
        "        try:\n",
        "            fahrenheit = float(input(\"Enter temperature in Fahrenheit: \"))\n",
        "            celsius = (fahrenheit - 32) * 5 / 9\n",
        "            print(f\"{fahrenheit}°F is equal to {celsius}°C\")\n",
        "            return celsius\n",
        "        except ValueError:\n",
        "            print(\"Invalid input. Please enter a numeric value.\")\n",
        "            return None\n",
        "\n",
        "    else:\n",
        "        # Handle invalid choice\n",
        "        print(\"Invalid choice. Please enter 1 or 2.\")\n",
        "        return None\n",
        "\n",
        "# Call the function\n",
        "temperature_converter()"
      ],
      "metadata": {
        "colab": {
          "base_uri": "https://localhost:8080/",
          "height": 0
        },
        "id": "rJkZ4VJtTVrt",
        "outputId": "30f89bcb-7096-4814-e06c-5a5b40035653"
      },
      "execution_count": 31,
      "outputs": [
        {
          "output_type": "stream",
          "name": "stdout",
          "text": [
            "Choose conversion type:\n",
            "1. Celsius to Fahrenheit\n",
            "2. Fahrenheit to Celsius\n",
            "Enter 1 or 2: 1\n",
            "Enter temperature in Celsius: 23\n",
            "23.0°C is equal to 73.4°F\n"
          ]
        },
        {
          "output_type": "execute_result",
          "data": {
            "text/plain": [
              "73.4"
            ]
          },
          "metadata": {},
          "execution_count": 31
        }
      ]
    },
    {
      "cell_type": "markdown",
      "source": [
        "#Global Varaible"
      ],
      "metadata": {
        "id": "3f1dqUwcT4WS"
      }
    },
    {
      "cell_type": "code",
      "source": [
        "x = 10 # Global Variable.\n",
        "def print_global():\n",
        "    print(x) # Accessing global variable\n",
        "print_global() # Output: 10"
      ],
      "metadata": {
        "colab": {
          "base_uri": "https://localhost:8080/",
          "height": 0
        },
        "id": "ys2zvzdIT9sa",
        "outputId": "82befc27-481f-41ec-d557-8e7a43c8ab81"
      },
      "execution_count": 33,
      "outputs": [
        {
          "output_type": "stream",
          "name": "stdout",
          "text": [
            "10\n"
          ]
        }
      ]
    },
    {
      "cell_type": "markdown",
      "source": [
        "#Global Varaible"
      ],
      "metadata": {
        "id": "pE-zDtUrUa4H"
      }
    },
    {
      "cell_type": "code",
      "source": [
        "def print_local():\n",
        "  y = 5 # Local variable\n",
        "  print(y)\n",
        "print_local() # Output: 5\n",
        "print(y) # This would cause an error because y is not accessible outside the function"
      ],
      "metadata": {
        "colab": {
          "base_uri": "https://localhost:8080/",
          "height": 0
        },
        "id": "JwoOnXubUIkv",
        "outputId": "b0ee84d5-d44d-4344-f50f-57108b8f2557"
      },
      "execution_count": 35,
      "outputs": [
        {
          "output_type": "stream",
          "name": "stdout",
          "text": [
            "5\n",
            "10\n"
          ]
        }
      ]
    },
    {
      "cell_type": "markdown",
      "source": [
        "#Global Varaible"
      ],
      "metadata": {
        "id": "MywGlfV4UrfZ"
      }
    },
    {
      "cell_type": "code",
      "source": [
        "x = 10 # Global variable\n",
        "def modify_global():\n",
        "  global x # Declaring x as global\n",
        "  x = 20 # Modifying global x\n",
        "modify_global()\n",
        "print(x) # Output: 20"
      ],
      "metadata": {
        "colab": {
          "base_uri": "https://localhost:8080/",
          "height": 0
        },
        "id": "IJPSC0edUzzT",
        "outputId": "b6e65692-8501-42c5-afcf-1b4910190434"
      },
      "execution_count": 36,
      "outputs": [
        {
          "output_type": "stream",
          "name": "stdout",
          "text": [
            "20\n"
          ]
        }
      ]
    },
    {
      "cell_type": "markdown",
      "source": [],
      "metadata": {
        "id": "cXwW6uViVDss"
      }
    },
    {
      "cell_type": "markdown",
      "source": [
        "#Task 1. Classify Temperatures:\n",
        "1. Create empty lists for temperature classifications:\n",
        "(a) Cold: temperatures below 10°C.\n",
        "(b) Mild: temperatures between 10°C and 15°C.\n",
        "(c) Comfortable: temperatures between 15°C and 20°C.\n",
        "2. Iterate over the temperatures list and add each temperature to the appropriate cate gory.\n",
        "3. Print the lists to verify the classifications.\n"
      ],
      "metadata": {
        "id": "U_-_cqQqVTdm"
      }
    },
    {
      "cell_type": "code",
      "source": [
        "# Create empty lists for each temperature classification\n",
        "cold = []          # For temperatures below 10°C\n",
        "mild = []          # For temperatures between 10°C and 15°C\n",
        "comfortable = []    # For temperatures between 15°C and 20°C\n",
        "\n",
        "# List of temperatures to classify\n",
        "temperatures = [3, 8, 12, 14, 16, 19, 25, 30, 5, 9]\n",
        "\n",
        "# Classify temperatures\n",
        "for temp in temperatures:\n",
        "    if temp < 10:\n",
        "        cold.append(temp)\n",
        "    elif 10 <= temp <= 15:\n",
        "        mild.append(temp)\n",
        "    elif 15 < temp <= 20:\n",
        "        comfortable.append(temp)\n",
        "\n",
        "# Output the classified lists\n",
        "print(\"Cold temperatures (below 10°C):\", cold)\n",
        "print(\"Mild temperatures (10°C to 15°C):\", mild)\n",
        "print(\"Comfortable temperatures (15°C to 20°C):\", comfortable)\n"
      ],
      "metadata": {
        "colab": {
          "base_uri": "https://localhost:8080/",
          "height": 0
        },
        "id": "MTOi6x0KVVDJ",
        "outputId": "f8b550a8-f5ca-4fb9-dc17-b82596181805"
      },
      "execution_count": 37,
      "outputs": [
        {
          "output_type": "stream",
          "name": "stdout",
          "text": [
            "Cold temperatures (below 10°C): [3, 8, 5, 9]\n",
            "Mild temperatures (10°C to 15°C): [12, 14]\n",
            "Comfortable temperatures (15°C to 20°C): [16, 19]\n"
          ]
        }
      ]
    },
    {
      "cell_type": "markdown",
      "source": [
        "#Task 2. Based on Data - Answer all the Questions:\n",
        "1. How many times was it mild?\n",
        "(a) Hint: Count the number of items in the mild list and print the result.\n",
        "2. How many times was it comfortable?\n",
        "3. How many times was it cold?\n"
      ],
      "metadata": {
        "id": "kofllHbzV2eM"
      }
    },
    {
      "cell_type": "code",
      "source": [
        "# Step 1: Create empty lists for temperature classifications\n",
        "cold = [] # For temperatures below 10°C\n",
        "mild = [] # For temperatures between 10°C and 15°C\n",
        "comfortable = [] # For temperatures between 15°C and 20°C\n",
        "\n",
        "# List of temperatures to classify (example list)\n",
        "temperatures = [3, 8, 12, 14, 16, 19, 25, 30, 5, 9]\n",
        "\n",
        "# Step 2: Iterate over the temperatures list and classify each temperature\n",
        "for temp in temperatures:\n",
        "    if temp < 10:\n",
        "        cold.append(temp)\n",
        "    elif 10 <= temp <= 15:\n",
        "        mild.append(temp)\n",
        "    elif 15 < temp <= 20:\n",
        "        comfortable.append(temp)\n",
        "\n",
        "# Step 3: Count how many times it was mild, comfortable, and cold\n",
        "mild_count = len(mild)\n",
        "comfortable_count = len(comfortable)\n",
        "cold_count = len(cold)\n",
        "\n",
        "# Print the counts\n",
        "print(\"Number of mild temperatures:\", mild_count)\n",
        "print(\"Number of comfortable temperatures:\", comfortable_count)\n",
        "print(\"Number of cold temperatures:\", cold_count)\n",
        "\n",
        "# Task 3: Convert Temperatures from Celsius to Fahrenheit\n",
        "def convert_to_fahrenheit(celsius):\n",
        "    return (celsius * 9/5) + 32\n",
        "\n",
        "# Convert each temperature and print the result\n",
        "fahrenheit_temperatures = [convert_to_fahrenheit(temp) for temp in temperatures]\n",
        "print(\"Temperatures in Fahrenheit:\", fahrenheit_temperatures)\n"
      ],
      "metadata": {
        "colab": {
          "base_uri": "https://localhost:8080/",
          "height": 0
        },
        "id": "D2_zz74TWqW8",
        "outputId": "fa04bb32-f7c4-4730-915e-39f128bf16e6"
      },
      "execution_count": 38,
      "outputs": [
        {
          "output_type": "stream",
          "name": "stdout",
          "text": [
            "Number of mild temperatures: 2\n",
            "Number of comfortable temperatures: 2\n",
            "Number of cold temperatures: 4\n",
            "Temperatures in Fahrenheit: [37.4, 46.4, 53.6, 57.2, 60.8, 66.2, 77.0, 86.0, 41.0, 48.2]\n"
          ]
        }
      ]
    },
    {
      "cell_type": "markdown",
      "source": [
        "#Task 3. Convert Temperatures from Celsius to Fahrenheit\n",
        "Using the formula for temperature conversion, convert each reading from Celsius to Fahren heit and store it in a new list called temperatures_fahrenheit.\n",
        "Formula: Fahrenheit = (Celsius ×95) + 32\n",
        "1. Iterate over the temperatures list and apply the formula to convert each temperature. 2. Store the results in the new list.\n",
        "3. Print the converted Fahrenheit values.\n"
      ],
      "metadata": {
        "id": "Chm5fh-3Xaya"
      }
    },
    {
      "cell_type": "code",
      "source": [
        "# List of temperatures in Celsius\n",
        "temperatures = [3, 8, 12, 14, 16, 19, 25, 30, 5, 9]\n",
        "\n",
        "# Step 1: Create an empty list for the converted temperatures\n",
        "temperatures_fahrenheit = []\n",
        "\n",
        "# Step 2: Iterate over the temperatures list and apply the conversion formula\n",
        "for temp in temperatures:\n",
        "    fahrenheit = (temp * 9/5) + 32\n",
        "    temperatures_fahrenheit.append(fahrenheit)\n",
        "\n",
        "# Step 3: Print the converted Fahrenheit values\n",
        "print(\"Temperatures in Fahrenheit:\", temperatures_fahrenheit)\n"
      ],
      "metadata": {
        "colab": {
          "base_uri": "https://localhost:8080/",
          "height": 0
        },
        "id": "JRzYi2WeXzq2",
        "outputId": "950b48bf-56b7-4855-e82b-640fe03ecb7f"
      },
      "execution_count": 39,
      "outputs": [
        {
          "output_type": "stream",
          "name": "stdout",
          "text": [
            "Temperatures in Fahrenheit: [37.4, 46.4, 53.6, 57.2, 60.8, 66.2, 77.0, 86.0, 41.0, 48.2]\n"
          ]
        }
      ]
    },
    {
      "cell_type": "markdown",
      "source": [
        "#Task 4. Analyze Temperature Patterns by Time of Day:\n",
        "Scenario: Each day’s readings are grouped as:\n",
        "• Night (00-08),\n",
        "• Evening (08-16),\n",
        "• Day (16-24).\n",
        "1. Create empty lists for night, day, and evening temperatures.\n",
        "2. Iterate over the temperatures list, assigning values to each time-of-day list based on their position.\n",
        "3. Calculate and print the average day-time temperature.\n",
        "4. (Optional) Plot ”day vs. temperature” using matplotlib.\n"
      ],
      "metadata": {
        "id": "Kkal9QtcYG7q"
      }
    },
    {
      "cell_type": "code",
      "source": [
        "import matplotlib.pyplot as plt\n",
        "\n",
        "# Example list of temperatures (assuming 24 hourly readings)\n",
        "temperatures = [15, 14, 13, 12, 11, 10, 9, 8, 20, 21, 22, 23, 24, 25, 26, 27, 28, 29, 30, 31, 32, 33, 34, 35]\n",
        "\n",
        "# Step 1: Create empty lists for night, day, and evening temperatures\n",
        "night_temps = []    # 00:00 - 08:00\n",
        "evening_temps = []  # 08:00 - 16:00\n",
        "day_temps = []      # 16:00 - 24:00\n",
        "\n",
        "# Step 2: Iterate over the temperatures list and assign values to each time-of-day list\n",
        "for i, temp in enumerate(temperatures):\n",
        "    if 0 <= i < 8:\n",
        "        night_temps.append(temp)  # Night temperatures\n",
        "    elif 8 <= i < 16:\n",
        "        evening_temps.append(temp)  # Evening temperatures\n",
        "    elif 16 <= i < 24:\n",
        "        day_temps.append(temp)  # Day temperatures\n",
        "\n",
        "# Step 3: Calculate and print the average day-time temperature\n",
        "average_day_temp = sum(day_temps) / len(day_temps) if len(day_temps) > 0 else 0\n",
        "print(\"Average Day-time Temperature:\", average_day_temp)\n",
        "\n",
        "# Step 4: (Optional) Plot \"day vs. temperature\" using matplotlib\n",
        "hours = list(range(16, 24))  # Hours for day (16:00 - 24:00)\n",
        "\n",
        "plt.plot(hours, day_temps, marker='o', linestyle='-', color='b', label=\"Day Temperatures\")\n",
        "plt.xlabel('Hour of the Day')\n",
        "plt.ylabel('Temperature (°C)')\n",
        "plt.title('Day-time Temperature vs Hour')\n",
        "plt.grid(True)\n",
        "plt.legend()\n",
        "plt.show()\n"
      ],
      "metadata": {
        "colab": {
          "base_uri": "https://localhost:8080/",
          "height": 489
        },
        "id": "Gmv2rXGlYNlr",
        "outputId": "7df43ede-5f53-4dd1-9112-e4817490b3cc"
      },
      "execution_count": 40,
      "outputs": [
        {
          "output_type": "stream",
          "name": "stdout",
          "text": [
            "Average Day-time Temperature: 31.5\n"
          ]
        },
        {
          "output_type": "display_data",
          "data": {
            "text/plain": [
              "<Figure size 640x480 with 1 Axes>"
            ],
            "image/png": "[encoded data removed]"
          },
          "metadata": {}
        }
      ]
    },
    {
      "cell_type": "markdown",
      "source": [
        "#8.1.1 Exercise - Recursion:\n",
        "#Task 1 - Sum of Nested Lists:\n",
        "Scenario: You have a list that contains numbers and other lists of numbers (nested lists). You want to find the total sum of all the numbers in this structure.\n",
        "Task:\n",
        "• Write a recursive function sum_nested_list(nested_list) that:\n",
        "1. Takes a nested list (a list that can contain numbers or other lists of numbers) as input.\n",
        "2. Sums all numbers at every depth level of the list, regardless of how deeply nested the numbers are.\n",
        "• Test the function with a sample nested list, such as\n",
        "nested_list = [1, [2, [3, 4], 5], 6, [7, 8]].\n",
        "The result should be the total sum of all the numbers.\n",
        "\n"
      ],
      "metadata": {
        "id": "V6K66q02Y0EA"
      }
    },
    {
      "cell_type": "code",
      "source": [
        "def sum_nested_list(nested_list):\n",
        "    \"\"\"\n",
        "    Calculate the sum of all numbers in a nested list.\n",
        "    This function takes a list that may contain integers or other nested lists and sums all the integers.\n",
        "\n",
        "    Args:\n",
        "    nested_list (list): A list that may contain integers or other lists of integers.\n",
        "\n",
        "    Returns:\n",
        "    int: The total sum of all integers in the nested list, including those in sublists.\n",
        "    \"\"\"\n",
        "    total = 0\n",
        "    for element in nested_list:\n",
        "        if isinstance(element, list):  # Check if the element is a list\n",
        "            total += sum_nested_list(element)  # Recursively sum the nested list\n",
        "        else:\n",
        "            total += element  # Add the number to the total\n",
        "    return total\n",
        "\n",
        "# Test the function with a sample nested list\n",
        "nested_list = [1, [2, [3, 4], 5], 6, [7, 8]]\n",
        "result = sum_nested_list(nested_list)\n",
        "print(f\"Total sum of all numbers: {result}\")\n"
      ],
      "metadata": {
        "colab": {
          "base_uri": "https://localhost:8080/",
          "height": 0
        },
        "id": "p0GTHkciZbbu",
        "outputId": "f2a9ebf1-ceb2-403f-abd8-c7fdaa9d8753"
      },
      "execution_count": 41,
      "outputs": [
        {
          "output_type": "stream",
          "name": "stdout",
          "text": [
            "Total sum of all numbers: 36\n"
          ]
        }
      ]
    },
    {
      "cell_type": "markdown",
      "source": [
        "#Task 2 - Generate All Permutations of a String:\n",
        "Scenario: Given a string, generate all possible permutations of its characters. This is useful for understanding backtracking and recursive depth-first search.\n",
        "Task:\n",
        "• Write a recursive function generate_permutations(s) that:\n",
        "– Takes a string s as input and returns a list of all unique permutations. • Test with strings like ”abc” and ”aab”.\n",
        "print(generate_permutations(\"abc\"))\n",
        "# Should return [’abc’, ’acb’, ’bac’, ’bca’, ’cab’, ’cba’]\n"
      ],
      "metadata": {
        "id": "1VxQCLiLZa62"
      }
    },
    {
      "cell_type": "code",
      "source": [
        "def generate_permutations(s):\n",
        "    \"\"\"\n",
        "    Generate all unique permutations of a string using recursion.\n",
        "\n",
        "    Args:\n",
        "    s (str): The input string.\n",
        "\n",
        "    Returns:\n",
        "    list: A list of all unique permutations of the string.\n",
        "    \"\"\"\n",
        "    # Helper function to generate permutations\n",
        "    def backtrack(start, end, s, result):\n",
        "        if start == end:\n",
        "            result.append(\"\".join(s))  # Add the permutation to the result\n",
        "        else:\n",
        "            for i in range(start, end):\n",
        "                # Swap the character at index 'start' with index 'i'\n",
        "                s[start], s[i] = s[i], s[start]\n",
        "                # Recurse with the next starting index\n",
        "                backtrack(start + 1, end, s, result)\n",
        "                # Swap back to restore the string\n",
        "                s[start], s[i] = s[i], s[start]\n",
        "\n",
        "    result = []\n",
        "    # Convert the string to a list of characters for easier manipulation\n",
        "    s = list(s)\n",
        "    # Start the backtracking process\n",
        "    backtrack(0, len(s), s, result)\n",
        "    return result\n",
        "\n",
        "# Test the function with some example strings\n",
        "print(generate_permutations(\"abc\"))\n",
        "# Should return ['abc', 'acb', 'bac', 'bca', 'cab', 'cba']\n",
        "\n",
        "print(generate_permutations(\"aab\"))\n",
        "# Should return ['aab', 'aba', 'baa']\n"
      ],
      "metadata": {
        "colab": {
          "base_uri": "https://localhost:8080/",
          "height": 0
        },
        "id": "9uS9KmdWZ-Wb",
        "outputId": "4d5b46e4-47e2-41ec-f10e-fb86201c1231"
      },
      "execution_count": 42,
      "outputs": [
        {
          "output_type": "stream",
          "name": "stdout",
          "text": [
            "['abc', 'acb', 'bac', 'bca', 'cba', 'cab']\n",
            "['aab', 'aba', 'aab', 'aba', 'baa', 'baa']\n"
          ]
        }
      ]
    },
    {
      "cell_type": "markdown",
      "source": [
        "#Task 3 - Directory Size Calculation:\n",
        "Directory Size Calculation Scenario: Imagine a file system where directories can contain files (with sizes in KB) and other directories. You want to calculate the total size of a directory, including all nested files and subdirectories.\n",
        "Task:\n",
        "1. Write a recursive function calculate_directory_size(directory) where:\n",
        "• directory is a dictionary where keys represent file names (with values as sizes in KB) or directory names (with values as another dictionary representing a subdi rectory).\n",
        "• The function should return the total size of the directory, including all nested subdirectories.\n",
        "2. Test the function with a sample directory structure.\n",
        "\n"
      ],
      "metadata": {
        "id": "3I_QNuqkaZrn"
      }
    },
    {
      "cell_type": "code",
      "source": [
        "def calculate_directory_size(directory):\n",
        "    \"\"\"\n",
        "    Calculate the total size of a directory, including all nested subdirectories and files.\n",
        "\n",
        "    Args:\n",
        "    directory (dict): The directory structure, with files as keys and sizes as values,\n",
        "                       or directories as keys and nested directories as values.\n",
        "\n",
        "    Returns:\n",
        "    int: The total size of the directory in KB.\n",
        "    \"\"\"\n",
        "    total_size = 0\n",
        "\n",
        "    for item, value in directory.items():\n",
        "        if isinstance(value, dict):\n",
        "            # If the item is a directory, recursively calculate its size\n",
        "            total_size += calculate_directory_size(value)\n",
        "        else:\n",
        "            # If the item is a file, add its size\n",
        "            total_size += value\n",
        "\n",
        "    return total_size\n",
        "\n",
        "# Test with the provided sample directory structure\n",
        "directory_structure = {\n",
        "    \"file1.txt\": 200,\n",
        "    \"file2.txt\": 300,\n",
        "    \"subdir1\": {\n",
        "        \"file3.txt\": 400,\n",
        "        \"file4.txt\": 100\n",
        "    },\n",
        "    \"subdir2\": {\n",
        "        \"subsubdir1\": {\n",
        "            \"file5.txt\": 250\n",
        "        },\n",
        "        \"file6.txt\": 150\n",
        "    }\n",
        "}\n",
        "\n",
        "# Calculate the total size of the directory\n",
        "total_size = calculate_directory_size(directory_structure)\n",
        "print(f\"Total directory size: {total_size} KB\")\n"
      ],
      "metadata": {
        "colab": {
          "base_uri": "https://localhost:8080/",
          "height": 0
        },
        "id": "kgM_YbOyascS",
        "outputId": "b3434ce6-ad42-4e8b-9b7d-4882edc409a3"
      },
      "execution_count": 43,
      "outputs": [
        {
          "output_type": "stream",
          "name": "stdout",
          "text": [
            "Total directory size: 1400 KB\n"
          ]
        }
      ]
    },
    {
      "cell_type": "markdown",
      "source": [
        "#8.2.2 Exercises - Dynamic Programming:\n",
        "Task 1 - Coin Change Problem:\n",
        "Scenario: Given a set of coin denominations and a target amount, find the minimum number of coins needed to make the amount. If it’s not possible, return - 1.\n",
        "Task:\n",
        "1. Write a function min_coins(coins, amount) that:\n",
        "• Uses DP to calculate the minimum number of coins needed to make up the amount.\n",
        "2. Test with coins = [1, 2, 5] and amount = 11. The result should be 3 (using coins [5, 5, 1]).\n"
      ],
      "metadata": {
        "id": "k61K9ViobDVl"
      }
    },
    {
      "cell_type": "code",
      "source": [
        "def min_coins(coins, amount):\n",
        "    \"\"\"\n",
        "    Function to find the minimum number of coins needed to make the given amount.\n",
        "\n",
        "    Args:\n",
        "    coins (list): List of available coin denominations.\n",
        "    amount (int): The target amount to achieve using the coins.\n",
        "\n",
        "    Returns:\n",
        "    int: The minimum number of coins needed to make up the amount. If not possible, return -1.\n",
        "    \"\"\"\n",
        "    # Create a DP array with a size of amount + 1, initialized to infinity (as we are looking for a minimum)\n",
        "    dp = [float('inf')] * (amount + 1)\n",
        "\n",
        "    # Base case: zero coins are needed to make the amount 0\n",
        "    dp[0] = 0\n",
        "\n",
        "    # Iterate through each coin denomination\n",
        "    for coin in coins:\n",
        "        for i in range(coin, amount + 1):\n",
        "            # For each amount i, check if using the coin minimizes the number of coins\n",
        "            dp[i] = min(dp[i], dp[i - coin] + 1)\n",
        "\n",
        "    # If dp[amount] is still infinity, it means we can't make the amount with the given coins\n",
        "    return dp[amount] if dp[amount] != float('inf') else -1\n",
        "\n",
        "# Test the function with coins = [1, 2, 5] and amount = 11\n",
        "coins = [1, 2, 5]\n",
        "amount = 11\n",
        "result = min_coins(coins, amount)\n",
        "print(f\"The minimum number of coins to make {amount} is: {result}\")\n"
      ],
      "metadata": {
        "colab": {
          "base_uri": "https://localhost:8080/",
          "height": 0
        },
        "id": "7TvrM9RnbFvt",
        "outputId": "9d5faf4b-c833-4590-af38-54d596a4fe0a"
      },
      "execution_count": 44,
      "outputs": [
        {
          "output_type": "stream",
          "name": "stdout",
          "text": [
            "The minimum number of coins to make 11 is: 3\n"
          ]
        }
      ]
    },
    {
      "cell_type": "markdown",
      "source": [
        "#Task 2 - Longest Common Subsequence (LCS):\n",
        "Scenario: Given two strings, find the length of their longest common subsequence (LCS). This is useful in text comparison.\n",
        "Task:\n",
        "1. Write a function longest_common_subsequence(s1, s2) that:\n",
        "• Uses DP to find the length of the LCS of two strings s1 and s2.\n",
        "2. Test with strings like \"abcde\" and \"ace\"; the LCS length should be 3 (\"ace\"). 23\n"
      ],
      "metadata": {
        "id": "jdIQUMoFbVR2"
      }
    },
    {
      "cell_type": "code",
      "source": [
        "def longest_common_subsequence(s1, s2):\n",
        "    \"\"\"\n",
        "    Find the length of the Longest Common Subsequence (LCS) of two strings using dynamic programming.\n",
        "\n",
        "    Args:\n",
        "    s1 (str): First input string.\n",
        "    s2 (str): Second input string.\n",
        "\n",
        "    Returns:\n",
        "    int: The length of the longest common subsequence.\n",
        "    \"\"\"\n",
        "    # Create a DP table with dimensions (len(s1) + 1) x (len(s2) + 1)\n",
        "    dp = [[0] * (len(s2) + 1) for _ in range(len(s1) + 1)]\n",
        "\n",
        "    # Fill the DP table\n",
        "    for i in range(1, len(s1) + 1):\n",
        "        for j in range(1, len(s2) + 1):\n",
        "            if s1[i - 1] == s2[j - 1]:\n",
        "                dp[i][j] = dp[i - 1][j - 1] + 1  # If characters match, increment the count\n",
        "            else:\n",
        "                dp[i][j] = max(dp[i - 1][j], dp[i][j - 1])  # Otherwise, take the max from the left or above\n",
        "\n",
        "    # The length of the LCS will be in dp[len(s1)][len(s2)]\n",
        "    return dp[len(s1)][len(s2)]\n",
        "\n",
        "# Test the function with example strings\n",
        "s1 = \"abcde\"\n",
        "s2 = \"ace\"\n",
        "lcs_length = longest_common_subsequence(s1, s2)\n",
        "print(f\"The length of the longest common subsequence is: {lcs_length}\")\n"
      ],
      "metadata": {
        "id": "RGPt-fZ1bXbH"
      },
      "execution_count": null,
      "outputs": []
    },
    {
      "cell_type": "markdown",
      "source": [
        "#Task 3 - 0/1 Knapsack Problem:\n",
        "Scenario: You have a list of items, each with a weight and a value. Given a weight capacity, maximize the total value of items you can carry without exceeding the weight capacity. Task:\n",
        "1. Write a function knapsack(weights, values, capacity) that:\n",
        "• Uses DP to determine the maximum value that can be achieved within the given weight capacity.\n",
        "2. Test with weights [1, 3, 4, 5], values [1, 4, 5, 7], and capacity 7. The re sult should be 9.\n",
        "9 Closin\n"
      ],
      "metadata": {
        "id": "ygd-YQ_ebsyj"
      }
    },
    {
      "cell_type": "code",
      "source": [
        "def knapsack(weights, values, capacity):\n",
        "    \"\"\"\n",
        "    Solve the 0/1 knapsack problem using dynamic programming.\n",
        "\n",
        "    Args:\n",
        "    weights (list): The list of weights for the items.\n",
        "    values (list): The list of values for the items.\n",
        "    capacity (int): The maximum weight capacity of the knapsack.\n",
        "\n",
        "    Returns:\n",
        "    int: The maximum value achievable within the given weight capacity.\n",
        "    \"\"\"\n",
        "    # Number of items\n",
        "    n = len(weights)\n",
        "\n",
        "    # Create a DP table with (n+1) rows and (capacity+1) columns, initialized to 0\n",
        "    dp = [[0] * (capacity + 1) for _ in range(n + 1)]\n",
        "\n",
        "    # Fill the DP table\n",
        "    for i in range(1, n + 1):\n",
        "        for w in range(1, capacity + 1):\n",
        "            if weights[i - 1] <= w:\n",
        "                # Take the maximum of either including or excluding the current item\n",
        "                dp[i][w] = max(dp[i - 1][w], values[i - 1] + dp[i - 1][w - weights[i - 1]])\n",
        "            else:\n",
        "                # If the current item can't be included, just exclude it\n",
        "                dp[i][w] = dp[i - 1][w]\n",
        "\n",
        "    # The maximum value achievable is in dp[n][capacity]\n",
        "    return dp[n][capacity]\n",
        "\n",
        "# Test with weights [1, 3, 4, 5], values [1, 4, 5, 7], and capacity 7\n",
        "weights = [1, 3, 4, 5]\n",
        "values = [1, 4, 5, 7]\n",
        "capacity = 7\n",
        "\n",
        "max_value = knapsack(weights, values, capacity)\n",
        "print(f\"The maximum value achievable is: {max_value}\")\n"
      ],
      "metadata": {
        "colab": {
          "base_uri": "https://localhost:8080/",
          "height": 0
        },
        "id": "1cg2eCW1bvLq",
        "outputId": "d13348e9-d0fa-40db-b0ef-d3a36be9ea14"
      },
      "execution_count": 45,
      "outputs": [
        {
          "output_type": "stream",
          "name": "stdout",
          "text": [
            "The maximum value achievable is: 9\n"
          ]
        }
      ]
    }
  ]
}